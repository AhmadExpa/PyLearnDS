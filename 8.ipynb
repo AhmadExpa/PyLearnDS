{
 "cells": [
  {
   "attachments": {},
   "cell_type": "markdown",
   "metadata": {},
   "source": [
    "### functions are used to break the program into small parts\n",
    "### and each part perform a specific task \n",
    " #### def cand(name = \"NAME\"):\n",
    "  ####  return print(f\"This Letter is received by all the shortlisted candidates after the interview.  \\n \n",
    "  #### Congratulation {name} \\n For Further assistance Call us : \\n \\t 0000800000 \")\n",
    " #### cand(input(\"Enter The Name Of Recommended Candidate : \"))\n",
    "### ---------------------------\n",
    "### Recursion is commonly used to code directly the algorithm. \n",
    "### In Recursion the function call itself until the specified condition becomes false "
   ]
  },
  {
   "cell_type": "code",
   "execution_count": null,
   "metadata": {},
   "outputs": [],
   "source": [
    "def factorial_simple(num):\n",
    "    if num == 1 or num == 0:\n",
    "        return print(f\"Factorial of {num} is 1\")\n",
    "    i = 1\n",
    "    result = 1\n",
    "    while i <= num:\n",
    "     result = result * i\n",
    "     i = i + 1\n",
    "    return print(f\"Factorial Of {num} is {result} \\n\")\n",
    "\n",
    "def factorial_recursive(num):\n",
    "   \n",
    "    if num == 1 or num == 0:\n",
    "        return 1\n",
    "    return  num * factorial_recursive(num-1)\n",
    "\n",
    "\n",
    "# factorial_simple(5)\n",
    "factorial_recursive(5)\n",
    "# print(f)\n"
   ]
  }
 ],
 "metadata": {
  "kernelspec": {
   "display_name": "Python 3",
   "language": "python",
   "name": "python3"
  },
  "language_info": {
   "name": "python",
   "version": "3.11.1"
  },
  "orig_nbformat": 4,
  "vscode": {
   "interpreter": {
    "hash": "e7370f93d1d0cde622a1f8e1c04877d8463912d04d973331ad4851f04de6915a"
   }
  }
 },
 "nbformat": 4,
 "nbformat_minor": 2
}
