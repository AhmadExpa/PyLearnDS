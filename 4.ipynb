{
 "cells": [
  {
   "cell_type": "markdown",
   "id": "5e34a445",
   "metadata": {},
   "source": [
    "# list are the container that store a set of values in a variable"
   ]
  },
  {
   "cell_type": "code",
   "execution_count": 16,
   "id": "b76f9c35",
   "metadata": {},
   "outputs": [
    {
     "name": "stdout",
     "output_type": "stream",
     "text": [
      "original list is  = ['Ahmad', 'Ashfaq', 26, 3, 2004]\n"
     ]
    }
   ],
   "source": [
    "\n",
    "var = [\"Ahmad\", \"Ashfaq\", 26, 3, 2004]\n",
    "print(f\"original list is  = {var}\")\n"
   ]
  },
  {
   "cell_type": "markdown",
   "id": "a45acc59",
   "metadata": {},
   "source": [
    "# list slicing ------------------------------------------------------------------------------------"
   ]
  },
  {
   "cell_type": "code",
   "execution_count": 17,
   "id": "e130f7b6",
   "metadata": {},
   "outputs": [
    {
     "name": "stdout",
     "output_type": "stream",
     "text": [
      "['Ahmad', 'Ashfaq']\n",
      "[26, 3, 2004]\n",
      "['Ahmad', 'Ashfaq', 27, 3, 2004]\n"
     ]
    }
   ],
   "source": [
    "\n",
    "print(var[0:2])\n",
    "print(var[2:])\n",
    "var[2] = 27\n",
    "print(var)\n"
   ]
  },
  {
   "cell_type": "markdown",
   "id": "0d558ae2",
   "metadata": {},
   "source": [
    "# list method -------------------------------------------------------------------------------------"
   ]
  },
  {
   "cell_type": "code",
   "execution_count": 18,
   "id": "90d741aa",
   "metadata": {},
   "outputs": [
    {
     "name": "stdout",
     "output_type": "stream",
     "text": [
      "[1, 2, 5, 6, 7, 9, 8]\n",
      "Sorting The List =  [1, 2, 5, 6, 7, 8, 9]\n",
      "Sorting The List in reverse order=  [9, 8, 7, 6, 5, 2, 1]\n",
      "Append in The List add the specific value in the end of the list =  [9, 8, 7, 6, 5, 2, 1, 'GCUL']\n",
      "Inserting in the List =  ['AHMAD', 9, 8, 7, 6, 5, 2, 1, 'GCUL']\n",
      "Remove a value from The List through index=  [9, 8, 7, 6, 5, 2, 1, 'GCUL']\n",
      "Remove a value from The List through by writing it properly=  [9, 8, 7, 6, 5, 2, 1]\n"
     ]
    }
   ],
   "source": [
    "list_name = [1, 2, 5, 6, 7, 9, 8]\n",
    "print(list_name)\n",
    "# # -------------------------------------------------------------------------------------- \n",
    "list_name.sort()\n",
    "print(\"Sorting The List = \",list_name)\n",
    "# # --------------------------------------------------------------------------------------\n",
    "list_name.reverse()\n",
    "print(\"Sorting The List in reverse order= \",list_name)\n",
    "# # --------------------------------------------------------------------------------------\n",
    "list_name.append(\"GCUL\")\n",
    "print(\"Append in The List add the specific value in the end of the list = \",list_name)\n",
    "# # --------------------------------------------------------------------------------------\n",
    "list_name.insert(0, \"AHMAD\")\n",
    "print(\"Inserting in the List = \",list_name)\n",
    "# # --------------------------------------------------------------------------------------\n",
    "list_name.pop(0)\n",
    "print(\"Remove a value from The List through index= \",list_name)\n",
    "# # --------------------------------------------------------------------------------------\n",
    "list_name.remove(\"GCUL\")\n",
    "print(\"Remove a value from The List through by writing it properly= \",list_name)\n"
   ]
  },
  {
   "cell_type": "markdown",
   "id": "cbb3f960",
   "metadata": {},
   "source": [
    "# --------------------------------------TUPLE-------------------------------------------"
   ]
  },
  {
   "cell_type": "markdown",
   "id": "86428e0c",
   "metadata": {},
   "source": [
    "## tuple is a set of values that cannot be changed once declared \n",
    "## or to declare a one item tuple you must use the comma with it  like (1, ) otherwise\n",
    "## (1) only is declared as an integer for the variable\n"
   ]
  },
  {
   "cell_type": "code",
   "execution_count": 19,
   "id": "1f634f4d",
   "metadata": {},
   "outputs": [
    {
     "name": "stdout",
     "output_type": "stream",
     "text": [
      "('a', 'b', 'c', 1, 2, 3)\n",
      "('a', 'b', 'c', 1, 2, 3)\n"
     ]
    }
   ],
   "source": [
    "\n",
    "tuple_example = (\"a\",\"b\",\"c\",1,2,3)\n",
    "print(tuple_example)\n",
    "# tuple_example[0]=\"change\"\n",
    "print(tuple_example)\n",
    "\n",
    "\n"
   ]
  },
  {
   "cell_type": "markdown",
   "id": "f85aab9d",
   "metadata": {},
   "source": [
    "## function for tuples are .count .index "
   ]
  },
  {
   "cell_type": "code",
   "execution_count": 20,
   "id": "f9938c84",
   "metadata": {},
   "outputs": [
    {
     "name": "stdout",
     "output_type": "stream",
     "text": [
      "3\n",
      "1\n"
     ]
    }
   ],
   "source": [
    "\n",
    "print(tuple_example.index(1)) # index requires atleast 1 argument (for indexing)\n",
    "print(tuple_example.count(2)) # count 2 value repeats in the tuple\n"
   ]
  }
 ],
 "metadata": {
  "kernelspec": {
   "display_name": "Python 3",
   "language": "python",
   "name": "python3"
  },
  "language_info": {
   "codemirror_mode": {
    "name": "ipython",
    "version": 3
   },
   "file_extension": ".py",
   "mimetype": "text/x-python",
   "name": "python",
   "nbconvert_exporter": "python",
   "pygments_lexer": "ipython3",
   "version": "3.11.1 (main, Dec  7 2022, 08:49:13) [GCC 12.2.0]"
  },
  "vscode": {
   "interpreter": {
    "hash": "ead1b95f633dc9c51826328e1846203f51a198c6fb5f2884a80417ba131d4e82"
   }
  }
 },
 "nbformat": 4,
 "nbformat_minor": 5
}
