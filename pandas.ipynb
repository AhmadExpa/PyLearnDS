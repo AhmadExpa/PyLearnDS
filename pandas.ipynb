{
 "cells": [
  {
   "cell_type": "markdown",
   "metadata": {},
   "source": [
    "### Pandas "
   ]
  },
  {
   "attachments": {},
   "cell_type": "markdown",
   "metadata": {},
   "source": [
    "### Pannel Data Analysis\n",
    "### Analysis:\n",
    "##### 1. Descriptive. What Happened?\n",
    "##### 2. Diagnostic. Why Happened?\n",
    "##### 3 Predictive. What is likely to happen ?\n",
    "##### 4.Prescriptive. Prescription or action we have to take ?\n",
    "\n",
    "### Pandas Vs Excel\n",
    "##### Data Frame -------------- Worksheet \n",
    "##### Series -------------- Column \n",
    "##### Index -------------- Row Heading \n",
    "##### Row -------------- Row \n",
    "##### NaN  -------------- Empty Cell\n",
    "\n",
    "### Cons\n",
    "##### Python library\n",
    "##### Data Analysis And Data Manipulation\n",
    "##### Data Analysis\n",
    "##### Data science\n",
    "##### Ml\n",
    "##### Join, merge, filter, reshape\n",
    "##### Data Frames\n",
    "##### Reading And Writing Data\n",
    "##### Indexing And Selection\n",
    "##### Missing Data\n",
    "##### Data Cleaning \n",
    "##### Data Aggregation and Grouping (appling function to group of data)\n",
    "##### Time Series Data (Resampling, rolling window)\n",
    "##### Visualization (Charts)\n",
    "\n",
    "## Let's Begin"
   ]
  },
  {
   "cell_type": "code",
   "execution_count": 7,
   "metadata": {},
   "outputs": [],
   "source": [
    "# Importing Libraries\n",
    "import numpy as np\n",
    "import pandas as pd"
   ]
  },
  {
   "cell_type": "code",
   "execution_count": 8,
   "metadata": {},
   "outputs": [
    {
     "data": {
      "text/html": [
       "<div>\n",
       "<style scoped>\n",
       "    .dataframe tbody tr th:only-of-type {\n",
       "        vertical-align: middle;\n",
       "    }\n",
       "\n",
       "    .dataframe tbody tr th {\n",
       "        vertical-align: top;\n",
       "    }\n",
       "\n",
       "    .dataframe thead th {\n",
       "        text-align: right;\n",
       "    }\n",
       "</style>\n",
       "<table border=\"1\" class=\"dataframe\">\n",
       "  <thead>\n",
       "    <tr style=\"text-align: right;\">\n",
       "      <th></th>\n",
       "      <th>A</th>\n",
       "      <th>B</th>\n",
       "      <th>C</th>\n",
       "      <th>D</th>\n",
       "    </tr>\n",
       "  </thead>\n",
       "  <tbody>\n",
       "    <tr>\n",
       "      <th>2023-02-20</th>\n",
       "      <td>0.038686</td>\n",
       "      <td>0.498134</td>\n",
       "      <td>0.949988</td>\n",
       "      <td>0.424703</td>\n",
       "    </tr>\n",
       "    <tr>\n",
       "      <th>2023-02-21</th>\n",
       "      <td>0.095743</td>\n",
       "      <td>0.480433</td>\n",
       "      <td>0.709730</td>\n",
       "      <td>0.556803</td>\n",
       "    </tr>\n",
       "    <tr>\n",
       "      <th>2023-02-22</th>\n",
       "      <td>0.996436</td>\n",
       "      <td>0.648605</td>\n",
       "      <td>0.927570</td>\n",
       "      <td>0.693295</td>\n",
       "    </tr>\n",
       "    <tr>\n",
       "      <th>2023-02-23</th>\n",
       "      <td>0.209399</td>\n",
       "      <td>0.405010</td>\n",
       "      <td>0.767349</td>\n",
       "      <td>0.039255</td>\n",
       "    </tr>\n",
       "    <tr>\n",
       "      <th>2023-02-24</th>\n",
       "      <td>0.304238</td>\n",
       "      <td>0.697216</td>\n",
       "      <td>0.186759</td>\n",
       "      <td>0.531415</td>\n",
       "    </tr>\n",
       "    <tr>\n",
       "      <th>2023-02-25</th>\n",
       "      <td>0.890393</td>\n",
       "      <td>0.331960</td>\n",
       "      <td>0.410340</td>\n",
       "      <td>0.729672</td>\n",
       "    </tr>\n",
       "  </tbody>\n",
       "</table>\n",
       "</div>"
      ],
      "text/plain": [
       "                   A         B         C         D\n",
       "2023-02-20  0.038686  0.498134  0.949988  0.424703\n",
       "2023-02-21  0.095743  0.480433  0.709730  0.556803\n",
       "2023-02-22  0.996436  0.648605  0.927570  0.693295\n",
       "2023-02-23  0.209399  0.405010  0.767349  0.039255\n",
       "2023-02-24  0.304238  0.697216  0.186759  0.531415\n",
       "2023-02-25  0.890393  0.331960  0.410340  0.729672"
      ]
     },
     "execution_count": 8,
     "metadata": {},
     "output_type": "execute_result"
    }
   ],
   "source": [
    "# Creating A Simple DataFrame With Some Example Data\n",
    "\n",
    "data = {\n",
    "    'NAME':['Ahmad','Ali','Amir','Hassan','Abid'],\n",
    "    'AGE' : [18,19,20,21,22],\n",
    "    'CITY': ['LHR','RWP','ISL','LHR','FSD'],\n",
    "    'EDUCATION' : ['MATRIC','INTER','BA','MPHIL','PHD'],\n",
    "    'SALARY' : [5000, 10000, 15000, 20000, 25000]\n",
    "}\n",
    "df = pd.DataFrame(data)\n",
    "df\n",
    "\n",
    "# df02 = pd.DataFrame(np.arange(1,20+1))\n",
    "# df02\n",
    "\n",
    "# df03 = pd.Series([1,2,3,4,5])\n",
    "# df03\n",
    "\n",
    "df04 = pd.date_range(\"20230220\", periods=6)\n",
    "# df04\n",
    "\n",
    "df05 = pd.DataFrame(np.random.rand(6, 4), index= df04, columns=list(\"ABCD\"))\n",
    "df05\n",
    "\n",
    "# df05.to_numpy # Covert The DataFrame Into Array \n",
    "# # df05.describe\n",
    "\n",
    "# df05[0:2] # Select The Data Row Wise \n",
    "\n",
    "# df05.loc[df04[4]] # Show Data Index Wise // Date Wise in this Segment // iloc try\n",
    "# df05[df05 > 0.5] "
   ]
  },
  {
   "cell_type": "markdown",
   "metadata": {},
   "source": [
    "### BASIC OPERATIONS"
   ]
  },
  {
   "cell_type": "code",
   "execution_count": null,
   "metadata": {},
   "outputs": [],
   "source": [
    "# print the first few rows of dataframe \n",
    "print(df.head)\n"
   ]
  },
  {
   "cell_type": "code",
   "execution_count": null,
   "metadata": {},
   "outputs": [],
   "source": [
    "# print the summary statistics of the numerical columns\n",
    "print(df.describe)\n"
   ]
  },
  {
   "cell_type": "code",
   "execution_count": null,
   "metadata": {},
   "outputs": [],
   "source": [
    "# Select subset of the column\n",
    "print(df[['NAME','CITY']])"
   ]
  },
  {
   "cell_type": "code",
   "execution_count": null,
   "metadata": {},
   "outputs": [],
   "source": [
    "# select row based on condition\n",
    "print(df[df['AGE'] > 20])"
   ]
  },
  {
   "cell_type": "code",
   "execution_count": null,
   "metadata": {},
   "outputs": [],
   "source": [
    "# Select Row on multiple conditions\n",
    "print(df[(df['AGE'] < 22) & (df['CITY'] == 'LHR')])"
   ]
  },
  {
   "cell_type": "code",
   "execution_count": null,
   "metadata": {},
   "outputs": [],
   "source": [
    "# Aggregations\n",
    "# Group of data by a column and calculate the mean of the other column (and classified the data according to the groupby)\n",
    "print(df.groupby('CITY').mean())"
   ]
  },
  {
   "cell_type": "code",
   "execution_count": null,
   "metadata": {},
   "outputs": [],
   "source": [
    "# Group of data by a column ad calculate multiple statistics \n",
    "print(df.groupby('CITY').agg({'AGE':'mean'}))"
   ]
  },
  {
   "cell_type": "code",
   "execution_count": null,
   "metadata": {},
   "outputs": [],
   "source": [
    "# Pivot Table\n",
    "print(pd.pivot_table(df, index='CITY', columns='NAME', values='AGE'))\n",
    "# Data Cleaning \n"
   ]
  },
  {
   "cell_type": "code",
   "execution_count": null,
   "metadata": {},
   "outputs": [],
   "source": [
    "# replace the missing values with a default value\n",
    "df.fillna(0,inplace=True)\n",
    "# replace specific values with a new value \n",
    "df.replace('FSD','KPK', inplace=True)\n",
    "df\n",
    "# drop column with a missing values\n",
    "df.dropna(axis=1, inplace=True)\n",
    "df"
   ]
  },
  {
   "attachments": {},
   "cell_type": "markdown",
   "metadata": {},
   "source": [
    "#### Data Transformation"
   ]
  },
  {
   "cell_type": "code",
   "execution_count": null,
   "metadata": {},
   "outputs": [],
   "source": [
    "# applying a function to a column\n",
    "df = df['AGE'].apply(lambda x : x + 1)\n",
    "df"
   ]
  },
  {
   "cell_type": "code",
   "execution_count": null,
   "metadata": {},
   "outputs": [],
   "source": [
    "# applying a function to a dataframe\n",
    "# df = df.applymap(lambda x : str(x)) ??\n",
    "df"
   ]
  },
  {
   "cell_type": "code",
   "execution_count": null,
   "metadata": {},
   "outputs": [],
   "source": [
    "# apply a function to a group\n",
    "def normalize(s):\n",
    "    return (s - s.min())/(s.max()-s.min())\n",
    "\n",
    "df['SALARY_normalized'] = df.groupby('CITY')['SALARY'].apply(normalize)\n",
    "df"
   ]
  },
  {
   "cell_type": "markdown",
   "metadata": {},
   "source": [
    "#### Merge and Join"
   ]
  },
  {
   "cell_type": "code",
   "execution_count": null,
   "metadata": {},
   "outputs": [],
   "source": [
    "# Create a second dataframe with some additional data\n",
    "data02 = {\n",
    "    'NAME':['Ali','Imran','Kamran','Ahmad','Hassan','Abid'],\n",
    "    'TEAM':['A','B','C','C','A','B']\n",
    "}\n",
    "df2 = pd.DataFrame(data02)\n",
    "df2"
   ]
  },
  {
   "cell_type": "code",
   "execution_count": null,
   "metadata": {},
   "outputs": [],
   "source": [
    "# join the two dataframes on the 'name' column\n",
    "print(pd.merge(df,df2, on='NAME'))"
   ]
  },
  {
   "cell_type": "code",
   "execution_count": null,
   "metadata": {},
   "outputs": [],
   "source": [
    "# Concatentate the two dataframes vertically\n",
    "print(pd.concat([df, df2]))"
   ]
  },
  {
   "cell_type": "code",
   "execution_count": null,
   "metadata": {},
   "outputs": [],
   "source": [
    "# Time Series\n",
    "dates = pd.date_range('2023-02-20', periods=5)\n",
    "ts = pd.Series(np.random.randn(5), index=dates)\n",
    "ts"
   ]
  },
  {
   "cell_type": "markdown",
   "metadata": {},
   "source": [
    "#### Window functions"
   ]
  },
  {
   "cell_type": "code",
   "execution_count": null,
   "metadata": {},
   "outputs": [],
   "source": [
    "# "
   ]
  },
  {
   "attachments": {},
   "cell_type": "markdown",
   "metadata": {},
   "source": [
    "#### Plotting"
   ]
  },
  {
   "cell_type": "code",
   "execution_count": null,
   "metadata": {},
   "outputs": [],
   "source": [
    "# plot a line chart of a column\n",
    "df.plot(x='NAME', y='SALARY')\n"
   ]
  },
  {
   "cell_type": "code",
   "execution_count": 9,
   "metadata": {},
   "outputs": [
    {
     "data": {
      "text/plain": [
       "Text(0.5, 0, 'SALARY')"
      ]
     },
     "execution_count": 9,
     "metadata": {},
     "output_type": "execute_result"
    },
    {
     "data": {
      "image/png": "[encoded data removed]",
      "text/plain": [
       "<Figure size 640x480 with 1 Axes>"
      ]
     },
     "metadata": {},
     "output_type": "display_data"
    }
   ],
   "source": [
    "# Plot a scatter chart of two columns\n",
    "df.plot\n",
    "# plotting(continue)\n",
    "\n",
    "# plot a line chart of a column with a title and axis labels\n",
    "ax = df.plot(x='NAME', y='SALARY', title='SALARY BY NAME')\n",
    "ax.set_xlabel('NAME')\n",
    "ax.set_xlabel('SALARY')"
   ]
  },
  {
   "cell_type": "code",
   "execution_count": null,
   "metadata": {},
   "outputs": [],
   "source": [
    "# plot a histogram of a column with a specific number of bins\n",
    "df['AGE'].plot.hist(bins=3)"
   ]
  },
  {
   "cell_type": "code",
   "execution_count": null,
   "metadata": {},
   "outputs": [],
   "source": [
    "# plot a scatter chart of two columns with different marker styles and colors\n",
    "df.plot.scatter(x='AGE', y='SALARY', marker='D', color='green')"
   ]
  },
  {
   "cell_type": "code",
   "execution_count": 10,
   "metadata": {},
   "outputs": [],
   "source": [
    "# save the plot to a file \n",
    "fig = ax.get_figure()\n",
    "fig.savefig('plot.png')"
   ]
  }
 ],
 "metadata": {
  "kernelspec": {
   "display_name": "Python 3",
   "language": "python",
   "name": "python3"
  },
  "language_info": {
   "codemirror_mode": {
    "name": "ipython",
    "version": 3
   },
   "file_extension": ".py",
   "mimetype": "text/x-python",
   "name": "python",
   "nbconvert_exporter": "python",
   "pygments_lexer": "ipython3",
   "version": "3.11.1"
  },
  "orig_nbformat": 4,
  "vscode": {
   "interpreter": {
    "hash": "767d51c1340bd893661ea55ea3124f6de3c7a262a8b4abca0554b478b1e2ff90"
   }
  }
 },
 "nbformat": 4,
 "nbformat_minor": 2
}
