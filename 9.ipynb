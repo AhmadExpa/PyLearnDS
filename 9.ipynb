{
 "cells": [
  {
   "cell_type": "markdown",
   "metadata": {},
   "source": [
    "### The data in the ram is volatile ,\n",
    "### so after the execution of a program all its content will be lose\n",
    "### if we need to use that data which is entered by the user during the execution ,\n",
    "### so we need to store that data in our harddisk or something which stores permanentent\n",
    "### ------------------------------------------------------------------\n",
    "### To open a file in python we use open() but the thing matters at this point is that\n",
    "### the file you wanna to read should already present in the hdd /etc\n",
    "\n",
    "### so i'm gonna to write a file or making a file first and enters some data in it \n",
    "### and then read it . To write a program in python we use write or append mode."
   ]
  },
  {
   "cell_type": "code",
   "execution_count": null,
   "metadata": {},
   "outputs": [],
   "source": [
    "\n",
    "write_file = open(\"stone_paper_scissor_hi_score.txt\",\"w\")\n",
    "write_file.write(\"This Text File Includes the high score value of The Stone Paper Scissor Game : \")\n",
    "write_file.close()"
   ]
  },
  {
   "cell_type": "code",
   "execution_count": null,
   "metadata": {},
   "outputs": [],
   "source": [
    "### Now read the above file ------------------------------------------\n",
    "\n",
    "read_file = open(\"stone_paper_scissor_hi_score.txt\",\"r\")\n",
    "full_file = read_file.read() ### read full file\n",
    "print(full_file)\n",
    "read_line = read_file.readline() ### read specific number of lines by default it is 1\n",
    "print(read_line)\n",
    "read_character = read_file.read(5) ### read the file character wise \n",
    "print(read_character)\n",
    "read_file.close()"
   ]
  },
  {
   "cell_type": "markdown",
   "metadata": {},
   "source": [
    "### --------------------------------------------------------------------\n",
    "### Note : You can read a file at a once at a point \n",
    "### which means you can either read it full or line wise or character wise\n",
    "### --------------------------------------------------------------------\n",
    "### the simplest way to read and write a file is following the above is the standard way"
   ]
  },
  {
   "cell_type": "code",
   "execution_count": null,
   "metadata": {},
   "outputs": [],
   "source": [
    "option = int(input(\"How Many Candidates Name You Want To Enter : \"))\n",
    "with open(\"Candidates_file.txt\",\"w\") as candidates:\n",
    "    for i in range(1,option+1):\n",
    "        name = input(\"Enter The Names Of Candidates = \")\n",
    "        candidates.write(f\" {i}. {name} \\n\")\n",
    "### ### -------------------------------------------------------\n",
    "caste = [\"awan\", \"malik\", \"rajpoot\", \"butt\", \"jutt\"]\n",
    "\n",
    "with open(\"Candidates_file.txt\",\"r\") as f:\n",
    "    content = f.read()\n",
    "   \n",
    "with open(\"Candidates_file.txt\",\"w\") as f:\n",
    "     for word in caste:\n",
    "        content = content.replace(word,\"Caste_Removed\")\n",
    "     f = f.write(content)\n",
    "### ### --------------------------------------------------------\n",
    "with open(\"products.txt\",\"r\") as f:\n",
    "    var = True\n",
    "    while var:\n",
    "     content = f.readline()\n",
    "     if \"lays\" in content.lower():\n",
    "        print(\"Yes It's Available \\n\")\n",
    "        print(content)\n",
    "    else:\n",
    "        print(\"Nothing Found \\n\")\n",
    "### -------------------------------------------------------\n",
    "### Ends"
   ]
  }
 ],
 "metadata": {
  "kernelspec": {
   "display_name": "Python 3",
   "language": "python",
   "name": "python3"
  },
  "language_info": {
   "name": "python",
   "version": "3.11.1 (main, Dec  7 2022, 08:49:13) [GCC 12.2.0]"
  },
  "orig_nbformat": 4,
  "vscode": {
   "interpreter": {
    "hash": "ead1b95f633dc9c51826328e1846203f51a198c6fb5f2884a80417ba131d4e82"
   }
  }
 },
 "nbformat": 4,
 "nbformat_minor": 2
}
