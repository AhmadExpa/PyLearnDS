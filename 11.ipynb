{
 "cells": [
  {
   "attachments": {},
   "cell_type": "markdown",
   "metadata": {},
   "source": [
    "### Inheritace And More On OOPs\n",
    "### Inheritace is the way of creating new class from old class. \n",
    "### The old class will be the parent class and the new class will occur as a Child Class.\n",
    "### Types Of inheritance \n",
    "### 1. Single Inheritace\n",
    "### 2. Multiple Inheritace\n",
    "### 3. MultiLevel Inheritance \n",
    "### ----------------------------------------------------------"
   ]
  },
  {
   "cell_type": "code",
   "execution_count": null,
   "metadata": {},
   "outputs": [],
   "source": [
    "class data:\n",
    "    def __init__(self, student_name, semester, teacher_name, teacher_grade):\n",
    "        self.student_name = student_name\n",
    "        self.semester = semester\n",
    "        self.teacher_name = teacher_name\n",
    "        self.teacher_grade = teacher_grade\n",
    "\n",
    "class teaching_staff:\n",
    "    def teacher(self):\n",
    "        job_type = \"Government\"\n",
    "        print(f\"Teacher Name : {self.teacher_name} \\n Teacher Grade : {self.teacher_grade}\")\n",
    "class student:\n",
    "    def student(self):\n",
    "     last_semester = 8\n",
    "     if self.semester < 8 :\n",
    "        print(f\"Following Semester Are Left = {8 - self.semester} For {self.student_name}\\n\")\n",
    "     else :\n",
    "        print(\"You Are Graduated From This Institute \\n\")\n",
    "class administration (data, teaching_staff, student): ###Multi Inheritance If we call one Class then it will be one Single Inheritance\n",
    "    college = \"GCU\"\n",
    "\n",
    "###----------------------------------------------------------------\n",
    "data_form = administration(\"Ahmad\", 3, \"Imran\", 17)\n",
    "data_form.teacher()\n",
    "data_form.student()"
   ]
  },
  {
   "cell_type": "markdown",
   "metadata": {},
   "source": [
    "###              super method is used to access the method of the super class super __init__\n"
   ]
  },
  {
   "cell_type": "code",
   "execution_count": null,
   "metadata": {},
   "outputs": [],
   "source": [
    "class One:\n",
    "    def __init__(self):\n",
    "        print(\"Initializing  .One.... \\n\")\n",
    "    def print_function(self):\n",
    "     print(\"This IS Class ONe\")\n",
    "class Two(One):\n",
    "    def __init__(self):\n",
    "        print(\"Initializing  .Two.... \\n\")\n",
    "    def print_function(self):\n",
    "     super().print_function()\n",
    "     print(\"This IS CLass TWo\")\n",
    "class Three(Two): ###also an example of multi level inheritance\n",
    "    def __init__(self):\n",
    "        print(\"Initializing  .Three.... \\n\")\n",
    "    def print_function(self):\n",
    "     super().print_function()\n",
    "     print(\"This IS Class Three\")\n",
    "\n",
    "one_1 =  One()\n",
    "one_1.print_function()\n",
    "two_2 = Two()\n",
    "two_2.print_function()\n",
    "three_3 = Three()\n",
    "three_3.print_function()"
   ]
  },
  {
   "cell_type": "markdown",
   "metadata": {},
   "source": [
    "###            @classmethod() is method which is bound to the class not the object of the class \n",
    "###             which means that you can change the value of the attribute in the class through the object\n"
   ]
  },
  {
   "cell_type": "code",
   "execution_count": null,
   "metadata": {},
   "outputs": [],
   "source": [
    "class Example:\n",
    "    institute = \"GCU\"\n",
    "    location = \"Lahore\"\n",
    "    post_code = 54000\n",
    "    @classmethod\n",
    "    def changePostcode(cls, cpc):\n",
    "        cls.post_code = cpc\n",
    "\n",
    "e = Example()\n",
    "print(e.institute)\n",
    "print(e.location)\n",
    "print(e.post_code)\n",
    "e.changePostcode(54400)\n",
    "print(e.post_code)"
   ]
  },
  {
   "cell_type": "markdown",
   "metadata": {},
   "source": [
    "###               @property() decorator also a getter method type used to do changing within function\n"
   ]
  },
  {
   "cell_type": "code",
   "execution_count": null,
   "metadata": {},
   "outputs": [],
   "source": [
    "class Student:\n",
    "    semester_fee = 100000\n",
    "    admission_charges = 20000\n",
    "    sports_fee = 3000\n",
    "    it_facilities = 2000\n",
    "    @property\n",
    "    def total_fee(self): ###total fee calculation\n",
    "        return self.semester_fee + self.admission_charges + self.sports_fee + self.it_facilities\n",
    "    @total_fee.setter\n",
    "    def total_fee(self, fee): ###changing in fee occurs only in semester fee\n",
    "        self.semester_fee = fee - self.admission_charges - self.sports_fee - self.it_facilities\n",
    "\n",
    "###print all the data .\n",
    "stu = Student()\n",
    "print(stu.semester_fee)\n",
    "print(stu.admission_charges)\n",
    "print(stu.sports_fee)\n",
    "print(stu.it_facilities)\n",
    "print(stu.total_fee)\n",
    "###change in total fee\n",
    "stu.total_fee = 120000\n",
    "###change occurs in semester fee\n",
    "print(stu.semester_fee)"
   ]
  },
  {
   "attachments": {},
   "cell_type": "markdown",
   "metadata": {},
   "source": [
    "###                             OverLoading\n",
    "### operators in python can be overload by the dunder method\n",
    "### it is used when the user or the programmer wants to \n",
    "\n",
    "### for example when you used to add two number \n",
    "### and that time you want that the code automatically realize that the number are add \n",
    "### and the code do a specific task on its execution\n",
    "### like p1 + p2 ---> p1 __add__ p2\n"
   ]
  },
  {
   "cell_type": "code",
   "execution_count": null,
   "metadata": {},
   "outputs": [],
   "source": [
    "class Number:\n",
    "    def __init__(self,num):\n",
    "        self.num = num\n",
    "    def __add__(self,num2):\n",
    "        print(\"Iniatializing the Addition Process\")\n",
    "        return self.num + num2.num\n",
    "\n",
    "num1 = Number(3)\n",
    "num2 = Number(5)\n",
    "sum = num1 + num2 ###at this point the function runs and return value to the variable sum\n",
    "print(sum)"
   ]
  },
  {
   "attachments": {},
   "cell_type": "markdown",
   "metadata": {},
   "source": [
    "\n",
    "### there are many other OverLoading operators in python \n",
    "### which can be found through the python documentation\n",
    "### like \n",
    "### p1 + p2 ---> p1 __add__ p2\n",
    "### p1 * p2 ---> p1 __mul__ p2\n",
    "### p1 - p2 ---> p1 __sub__ p2\n",
    "### p1 // p2 ---> p1 __floordiv__ p2\n",
    "### p1 / p2 ---> p1 __truediv__ p2\n",
    "### __str__ method is used to get a display upon calling a string in program\n",
    "### __len__ method is used to get a display upon calling a len function in code\n",
    "### like"
   ]
  },
  {
   "cell_type": "code",
   "execution_count": null,
   "metadata": {},
   "outputs": [],
   "source": [
    "class Example:\n",
    "   def __init__(self, string):\n",
    "    self.string = string\n",
    "   def __str__(self):\n",
    "        return f\"You Enter a String: {self.string}\"\n",
    "   def __len__(self):\n",
    "        return len(self.string)\n",
    "\n",
    "var = Example(\"string\")\n",
    "print(var)\n",
    "print(len(var))\n",
    "###--------------------------------------------------------------------------------"
   ]
  }
 ],
 "metadata": {
  "kernelspec": {
   "display_name": "Python 3",
   "language": "python",
   "name": "python3"
  },
  "language_info": {
   "name": "python",
   "version": "3.11.1"
  },
  "orig_nbformat": 4,
  "vscode": {
   "interpreter": {
    "hash": "ead1b95f633dc9c51826328e1846203f51a198c6fb5f2884a80417ba131d4e82"
   }
  }
 },
 "nbformat": 4,
 "nbformat_minor": 2
}
