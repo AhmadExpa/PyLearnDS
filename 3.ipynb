{
 "cells": [
  {
   "cell_type": "markdown",
   "id": "46aaf5d6",
   "metadata": {},
   "source": [
    "#  String Slicing \n",
    "## ''' string slicing is used to give user a specific part of the string \n",
    "## means if the string is a = pakistan you can also print only word \"pak\" by using string slicing\n",
    "## '''\n",
    "## string slicing syntax \n",
    "##  new_variable = old_variable(that contains the string)[first_index:second_index] \n",
    "## keep in mind that first index is included and second is not\n",
    "## Let see by example"
   ]
  },
  {
   "cell_type": "code",
   "execution_count": null,
   "id": "39292045",
   "metadata": {},
   "outputs": [],
   "source": [
    "name = \"Ahmad\" \n",
    "string_slicing = name[1:4] # normal\n",
    "print(\"String Slicing Normally = \",string_slicing)"
   ]
  },
  {
   "cell_type": "markdown",
   "id": "10572864",
   "metadata": {},
   "source": [
    "##  digits start from 0=a, 1=h, 2=m, 3=a, 4=d \n",
    "## or in negative  sequence one its starts from right to left and ends on -1 \n",
    "## -5=a, -4=h, -3=m, -2=a, -1=d\n",
    "## ----------------------------"
   ]
  },
  {
   "cell_type": "code",
   "execution_count": 4,
   "id": "49d18110",
   "metadata": {},
   "outputs": [
    {
     "name": "stdout",
     "output_type": "stream",
     "text": [
      "String Slicing Negative =  hma\n"
     ]
    }
   ],
   "source": [
    "name = \"Ahmad\" \n",
    "string_slicing_negative = name[-4:-1] # Answer will be the same using negative sequence\n",
    "print(\"String Slicing Negative = \",string_slicing_negative)"
   ]
  },
  {
   "cell_type": "markdown",
   "id": "92f7bdc7",
   "metadata": {},
   "source": [
    "## for joining two strings we simply add them like"
   ]
  },
  {
   "cell_type": "code",
   "execution_count": 1,
   "id": "352b6355",
   "metadata": {},
   "outputs": [
    {
     "name": "stdout",
     "output_type": "stream",
     "text": [
      "Joining Two Strings Normal+Negative =  ahmadashfaq\n"
     ]
    }
   ],
   "source": [
    "var_a = 'ahmad'\n",
    "var_b = 'ashfaq'\n",
    "join_string = var_a + var_b\n",
    "print(\"Joining Two Strings Normal+Negative = \",join_string)"
   ]
  },
  {
   "cell_type": "markdown",
   "id": "c6ee129a",
   "metadata": {},
   "source": [
    "## Slicing with Skip Value "
   ]
  },
  {
   "cell_type": "code",
   "execution_count": 2,
   "id": "16ba58bc",
   "metadata": {},
   "outputs": [
    {
     "name": "stdout",
     "output_type": "stream",
     "text": [
      "Slicing With Skip Value =  Am\n"
     ]
    }
   ],
   "source": [
    "\n",
    "name = \"Ahmad\" \n",
    "print(\"Slicing With Skip Value = \",name[0:4:2]) # name[first_index:second_index:number_of_skips(if writes 1 it means one by one digit same as above)]\n"
   ]
  },
  {
   "cell_type": "markdown",
   "id": "2ee77621",
   "metadata": {},
   "source": [
    "## String_Function"
   ]
  },
  {
   "cell_type": "code",
   "execution_count": 1,
   "id": "2e252676",
   "metadata": {},
   "outputs": [
    {
     "name": "stdout",
     "output_type": "stream",
     "text": [
      "Show The Number of characters in the string including spaces 12\n",
      "False\n",
      "2\n",
      "Ahmad ashfaq\n",
      "Ahmad Ashfaq\n",
      "0\n",
      "Ahmed Ashfaq\n",
      "Escape Sequences \n",
      " \t tab \n",
      "\n"
     ]
    }
   ],
   "source": [
    "\n",
    "name = \"Ahmad Ashfaq\" \n",
    "print(\"Show The Number of characters in the string including spaces\",len(name)) # Len Function\n",
    "print(name.endswith(\"hag\")) # Endswith Function show that whether the string ends with that specific letter or not \n",
    "print(name.count(\"a\")) # .count function used to count a letter in a string\n",
    "print(name.capitalize()) # capitalize function used to captial the first letter of the string\n",
    "print(name.strip()) # this function is used to remove extra spaces from the starts\n",
    "print(name.find(\"Ahm\")) # find a word in a string (the first time that word repeats it gives it index)\n",
    "print(name.replace(\"Ahmad\", \"Ahmed\")) # used to replace all the old with the new one\n",
    "print(\"Escape Sequences \\n \\t tab \\n\")"
   ]
  },
  {
   "cell_type": "code",
   "execution_count": null,
   "id": "086cb217",
   "metadata": {},
   "outputs": [],
   "source": []
  },
  {
   "cell_type": "code",
   "execution_count": null,
   "id": "fa028093",
   "metadata": {},
   "outputs": [],
   "source": []
  }
 ],
 "metadata": {
  "kernelspec": {
   "display_name": "Python 3",
   "language": "python",
   "name": "python3"
  },
  "language_info": {
   "codemirror_mode": {
    "name": "ipython",
    "version": 3
   },
   "file_extension": ".py",
   "mimetype": "text/x-python",
   "name": "python",
   "nbconvert_exporter": "python",
   "pygments_lexer": "ipython3",
   "version": "3.11.1 (main, Dec  7 2022, 08:49:13) [GCC 12.2.0]"
  },
  "vscode": {
   "interpreter": {
    "hash": "ead1b95f633dc9c51826328e1846203f51a198c6fb5f2884a80417ba131d4e82"
   }
  }
 },
 "nbformat": 4,
 "nbformat_minor": 5
}
