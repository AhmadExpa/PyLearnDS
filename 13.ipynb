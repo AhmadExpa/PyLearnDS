{
 "cells": [
  {
   "cell_type": "markdown",
   "metadata": {},
   "source": [
    "#### >>>>>>>>>>>>>>>>>>>>>>>>>Virtual environment<<<<<<<<<<<<<<<<<<<<<<<<<\n",
    "''' An environment which is same as the system interpreter but isolated from\n",
    "the other environment of the system : virtual environment \n",
    "we create a virtual environment in python by installing a module called virtualenv\n",
    "// pip install virtualenv \n",
    "// virtualenv {filename} you want to create in this folder or file your virtualenv runs \n",
    "to activate the virtualenv in your terminal run this command in terminal\n",
    "source myprojectenv/bin/activate // for linux and mac os\n",
    "'''\n",
    "\n",
    "'''\n"
   ]
  },
  {
   "cell_type": "markdown",
   "metadata": {},
   "source": [
    "#### >>>>>>>>>>>>>>>>>>>>>>>>>>>pip freeze<<<<<<<<<<<<<<<<<<<<<<<<<<<<<<<<<<<\n",
    "''' Pip freeze command is used when we want to see the packages or modules installed in\n",
    "the current version of python we are using \n",
    "we can also create a file from pip that show the all the modules with version downloaded \n",
    "in our system\n",
    "pip freeze > {filename.txt}\n",
    "if someone wants to download the exact same modules in their python you send this file \n",
    "to that person and run this command\n",
    "pip install -r {filename.txt}"
   ]
  },
  {
   "attachments": {},
   "cell_type": "markdown",
   "metadata": {},
   "source": [
    "#### >>>>>Lambda Function/Method<<<<<\n"
   ]
  },
  {
   "cell_type": "code",
   "execution_count": null,
   "metadata": {},
   "outputs": [],
   "source": [
    "#  when you want to use a function like\n",
    "def func(a)\n",
    "return a+50\n",
    "for that purpose we use lambda \n",
    "func = lambda x : x+50\n",
    "# this works exactly the same as above"
   ]
  }
 ],
 "metadata": {
  "kernelspec": {
   "display_name": "Python 3",
   "language": "python",
   "name": "python3"
  },
  "language_info": {
   "name": "python",
   "version": "3.11.1"
  },
  "orig_nbformat": 4,
  "vscode": {
   "interpreter": {
    "hash": "ead1b95f633dc9c51826328e1846203f51a198c6fb5f2884a80417ba131d4e82"
   }
  }
 },
 "nbformat": 4,
 "nbformat_minor": 2
}
