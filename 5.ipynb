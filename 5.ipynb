{
 "cells": [
  {
   "attachments": {},
   "cell_type": "markdown",
   "metadata": {},
   "source": [
    "### dictionary is a collection of key value pairs such as below\n",
    "### ----------------------------------------------------------------------------------\n",
    "### properties of dictionary\n",
    "### it is unordered\n",
    "### it is mutable\n",
    "### it is indexed"
   ]
  },
  {
   "cell_type": "code",
   "execution_count": null,
   "metadata": {},
   "outputs": [],
   "source": [
    "dictionary = {\n",
    "    1:24,\n",
    "    \"Name\":\"Ahmad\",\n",
    "    \"Father\": \"Ashfaq\",\n",
    "    \"DOB\":\"26-03-2004\", \n",
    "    \"Marks\":75,\n",
    "    \"list\" : [1036, 951, 75]\n",
    "}\n",
    "print(type(dictionary))\n",
    "print(dictionary)\n",
    "print(dictionary[\"DOB\"])"
   ]
  },
  {
   "cell_type": "markdown",
   "metadata": {},
   "source": [
    "## ------------------------------ Dictionary Methods ---------------------------------"
   ]
  },
  {
   "cell_type": "code",
   "execution_count": null,
   "metadata": {},
   "outputs": [],
   "source": [
    "\n",
    "dictionary = {\n",
    "    1:24,\n",
    "    \"Name\":\"Ahmad\",\n",
    "    \"Father\": \"Ashfaq\",\n",
    "    \"DOB\":\"26-03-2004\", \n",
    "    \"Marks\":75,\n",
    "    \"list\" : [1036, 951, 75]\n",
    "}\n",
    "\n",
    "print(dictionary.items()) # list all the items in the dictionary both keys and values\n",
    "print(dictionary.keys()) # list all the items in the dictionary only keys\n",
    "dictionary.update({\"Name\" : \"Hamad\", \"DOB\":\"21-09-2006\", \"Relation With Previous One\": \"Brother\"}) # update and add some new keys and values in the previous dictionary\n",
    "print(dictionary.items())\n",
    "print(dictionary.get(\"Name\")) # list only the specific key's value"
   ]
  },
  {
   "cell_type": "markdown",
   "metadata": {},
   "source": [
    "# # -------------------------------- SETS --------------------------------------------------------------\n",
    "# # sets are the collection of non-repeatative elements \n",
    "# # properties of sets \n",
    "# # 1. unordered\n",
    "# # 2. cannot be changed\n",
    "# # 3. unindexed means cannot be access by index number\n",
    "# # 4. cannot contain duplicate values "
   ]
  },
  {
   "cell_type": "code",
   "execution_count": null,
   "metadata": {},
   "outputs": [],
   "source": []
  },
  {
   "cell_type": "markdown",
   "metadata": {},
   "source": [
    "# ------------- Methods -------------------------------------------------------------------------------"
   ]
  },
  {
   "cell_type": "code",
   "execution_count": null,
   "metadata": {},
   "outputs": [],
   "source": [
    "sets.update(\"abc\") # add new elements in set but in string form\n",
    "print(sets)\n",
    "\n",
    "print(sets.__len__()) # Count No. of elements\n",
    "\n",
    "sets.remove(\"a\") # Remove the written element from the set\n",
    "print(sets)\n",
    "\n",
    "sets.pop() # removes a random element from a set\n",
    "print(sets)\n",
    "\n",
    "sets.clear() # makes the set empty\n",
    "print(sets)"
   ]
  },
  {
   "cell_type": "code",
   "execution_count": null,
   "metadata": {},
   "outputs": [],
   "source": [
    "a = {1,3,5,7,9,24,\"Ahmad\"}\n",
    "b = {2,4,6,8,0,24,\"Hamad\"}\n",
    "print(a.union(b))\n",
    "print(a.intersection(b))\n"
   ]
  },
  {
   "cell_type": "code",
   "execution_count": null,
   "metadata": {},
   "outputs": [],
   "source": []
  }
 ],
 "metadata": {
  "kernelspec": {
   "display_name": "Python 3",
   "language": "python",
   "name": "python3"
  },
  "language_info": {
   "name": "python",
   "version": "3.11.1 (main, Dec  7 2022, 08:49:13) [GCC 12.2.0]"
  },
  "orig_nbformat": 4,
  "vscode": {
   "interpreter": {
    "hash": "ead1b95f633dc9c51826328e1846203f51a198c6fb5f2884a80417ba131d4e82"
   }
  }
 },
 "nbformat": 4,
 "nbformat_minor": 2
}
