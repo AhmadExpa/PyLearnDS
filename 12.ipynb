{
 "cells": [
  {
   "cell_type": "markdown",
   "metadata": {},
   "source": [
    "###  there are many built-in exception in python when something goes wrong in the code \n",
    "###  this exception show the error without cracking the whole process of the code\n",
    "###  try:\n",
    "###      ### code\n",
    "###   except ValueError :\n",
    "###      ### code\n",
    "###   except ZeroDivisionError :\n",
    "###      ### code\n",
    "###   except TypeError :\n",
    "###      ### code\n",
    "###   except Exception : // for all other type of error"
   ]
  },
  {
   "cell_type": "markdown",
   "metadata": {},
   "source": [
    "###  >>>>>>>>>>>> try with else clause <<<<<<<<<<<<<\n",
    "\n",
    "###  try:\n",
    "###      ### code\n",
    "###   except:\n",
    "###      ### code\n",
    "###   else: // this statement only runs after the successfully execution of TRY: ### code\n",
    "###      ### code"
   ]
  },
  {
   "cell_type": "markdown",
   "metadata": {},
   "source": [
    "###  >>>>>>>>>>>>>>>>>>>>>>> try with finally <<<<<<<<<<<<<<<<<<<<<<\n",
    "###  try:\n",
    "###      ### code\n",
    "###   except :\n",
    "###      ### code\n",
    "###  finally: // this code runs regardless of the error exception\n",
    "###      ### code"
   ]
  },
  {
   "cell_type": "markdown",
   "metadata": {},
   "source": [
    "###  >>>>>>>>>>>>>>>>>>>>>>>> Enumerate <<<<<<<<<<<<<<<<<<<<<<<<\n",
    "###  this function is used when we want to print the items in the list with index "
   ]
  },
  {
   "cell_type": "code",
   "execution_count": null,
   "metadata": {},
   "outputs": [],
   "source": [
    "\n",
    "list1 = [\"Ahmad\", \"Hamad\", \"Abdul Wahid\", 2004, 2006, 2010]\n",
    "for index, item in enumerate(list1):\n",
    "    print(index, item)"
   ]
  },
  {
   "attachments": {},
   "cell_type": "markdown",
   "metadata": {},
   "source": [
    "###  >>>>>>>>>>>>>>>>>List Comprehession<<<<<<<<<<<<<<\n",
    "###  list comprehession is an elegent way of creatig list from the existing one \n",
    "###  like"
   ]
  },
  {
   "cell_type": "code",
   "execution_count": null,
   "metadata": {},
   "outputs": [],
   "source": [
    "i = 0\n",
    "list1 = [1,2,3,4,4,5,6,8,9,0,66,7]\n",
    "print(f\"Original List = {list1}\")\n",
    "list2 = [i for i in list1 if i <= 8] ###  i means items in list \n",
    "list3 = [i for i in list2] ###  copy the list \n",
    "print(list2)\n",
    "print(list3)\n",
    "###  ----------------------------------------------------------------"
   ]
  },
  {
   "cell_type": "markdown",
   "metadata": {},
   "source": [
    "### Number Guess"
   ]
  },
  {
   "cell_type": "code",
   "execution_count": null,
   "metadata": {},
   "outputs": [],
   "source": [
    "\n",
    "import random \n",
    "list1 = []\n",
    "index = 0\n",
    "n = 1\n",
    "guess =  random.randint(1, 100)\n",
    "print(guess)\n",
    "while  True:\n",
    "    try:\n",
    "     num = int(input(\"Enter Any Num \"))\n",
    "     \n",
    "     if num == guess:\n",
    "        print(\"You Guess The Number Correct \\n \")\n",
    "        list1.append(num)\n",
    "        break\n",
    "     elif num > guess:\n",
    "        list1.append(num)\n",
    "        print(\"Enter Smaller Number \\n\")\n",
    "     elif num < guess:\n",
    "        print(\"Enter Greater Number \\n\")\n",
    "        list1.append(num)\n",
    "    except Exception as e:\n",
    "        print(f\"Enter Valid Arguments otherwise this error comes : {e} \\n\")\n",
    "    else:\n",
    "        n +=1\n",
    "    ###  finally:\n",
    "    ###  ###      print(\"Done Regardless of Error \\n\")\n",
    "print(f\"Well Done You Guess The Number In {n} attempts \\n\")\n",
    "for index, items in enumerate(list1) :\n",
    "    print(f\"{index}Values Which You Enter : {items} \")\n",
    "###  ----------------------------------------------------------------------------"
   ]
  },
  {
   "cell_type": "code",
   "execution_count": null,
   "metadata": {},
   "outputs": [],
   "source": []
  }
 ],
 "metadata": {
  "kernelspec": {
   "display_name": "Python 3",
   "language": "python",
   "name": "python3"
  },
  "language_info": {
   "name": "python",
   "version": "3.11.1"
  },
  "orig_nbformat": 4,
  "vscode": {
   "interpreter": {
    "hash": "ead1b95f633dc9c51826328e1846203f51a198c6fb5f2884a80417ba131d4e82"
   }
  }
 },
 "nbformat": 4,
 "nbformat_minor": 2
}
