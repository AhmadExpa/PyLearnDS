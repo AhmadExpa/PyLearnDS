{
 "cells": [
  {
   "attachments": {},
   "cell_type": "markdown",
   "metadata": {},
   "source": [
    "### ----------------------------------LOOPS--------------------------------------\n",
    "### repeats a set of instructions in Python (loop) "
   ]
  },
  {
   "cell_type": "markdown",
   "metadata": {},
   "source": [
    "### While-Loop"
   ]
  },
  {
   "cell_type": "code",
   "execution_count": 5,
   "metadata": {},
   "outputs": [
    {
     "name": "stdout",
     "output_type": "stream",
     "text": [
      "Yes 0\n",
      "Yes 1\n",
      "Yes 2\n",
      "Yes 3\n",
      "Yes 4\n",
      "Yes 5\n",
      "Yes 6\n",
      "Yes 7\n",
      "Yes 8\n",
      "Yes 9\n",
      "Done \n",
      "\n",
      "Done \n",
      "\n",
      "Following Canditates Names Are Given \n",
      "\n"
     ]
    }
   ],
   "source": [
    "\n",
    "i = 0\n",
    "while i<10:\n",
    "    print(\"Yes\",i)\n",
    "    i = i + 1\n",
    "print(\"Done \\n\")\n",
    "# -----------------------------------------------\n",
    "# use of sets in loops \n",
    "i = 1\n",
    "names_of_candidates = []\n",
    "while i <= 10 :\n",
    "\n",
    " names_of_candidates.insert(i,input(f\"Enter Name Of Candidate No.{i} = \"))\n",
    " i = i + 1\n",
    "print(\"Done \\n\")\n",
    "print(\"Following Canditates Names Are Given \\n\")\n",
    "names_of_candidates.sort()\n",
    "# print(names_of_candidates)"
   ]
  },
  {
   "cell_type": "markdown",
   "metadata": {},
   "source": [
    "### to use the for loop function in this program "
   ]
  },
  {
   "cell_type": "code",
   "execution_count": null,
   "metadata": {},
   "outputs": [],
   "source": [
    "for items in names_of_candidates :\n",
    "    print(items)\n",
    "print(\"Done \\n\")"
   ]
  },
  {
   "cell_type": "markdown",
   "metadata": {},
   "source": [
    "### for and range loop use in python"
   ]
  },
  {
   "cell_type": "code",
   "execution_count": null,
   "metadata": {},
   "outputs": [],
   "source": [
    "for i in range(1, 10, 2): # range (start point, end point but it is not included at the end, increment or skip value by default it is 1 )\n",
    "    print(i)"
   ]
  },
  {
   "cell_type": "markdown",
   "metadata": {},
   "source": [
    "### for with else ( When the loop exhaust then the else statement works )\n"
   ]
  },
  {
   "cell_type": "code",
   "execution_count": null,
   "metadata": {},
   "outputs": [],
   "source": [
    "for i in range(10):\n",
    "    print(i)\n",
    "else:\n",
    "    print(\"Done \\n\")"
   ]
  },
  {
   "cell_type": "markdown",
   "metadata": {},
   "source": [
    "### break statement in loop "
   ]
  },
  {
   "cell_type": "code",
   "execution_count": null,
   "metadata": {},
   "outputs": [],
   "source": [
    "for i in range(2100):\n",
    "    print(i)\n",
    "    if i == 2023:\n",
    "        break\n",
    "else:\n",
    "    print(\"This Statement prints when your loop runs successfully without any break\")"
   ]
  },
  {
   "cell_type": "markdown",
   "metadata": {},
   "source": [
    "### continue statement in loop is used when you want to continue the loop on a specific value without executing the other parts below the continue statement in the loop body\n"
   ]
  },
  {
   "cell_type": "code",
   "execution_count": null,
   "metadata": {},
   "outputs": [],
   "source": [
    "for i in range(10):\n",
    "    if i == 7: # when the i becomes 7 it continues to the the next iteration without printing the 7\n",
    "        continue\n",
    "    print(i)"
   ]
  },
  {
   "cell_type": "markdown",
   "metadata": {},
   "source": [
    "### pass statement (it means do nothing on a specific condition)\n"
   ]
  },
  {
   "cell_type": "code",
   "execution_count": null,
   "metadata": {},
   "outputs": [],
   "source": [
    "i = 5\n",
    "if i < 10:\n",
    "  pass # if I don't write pass then the program throw an error if I don't write anything in the body of if\n",
    "print(i)"
   ]
  },
  {
   "cell_type": "markdown",
   "metadata": {},
   "source": [
    "### stars print"
   ]
  },
  {
   "cell_type": "code",
   "execution_count": null,
   "metadata": {},
   "outputs": [
    {
     "name": "stdout",
     "output_type": "stream",
     "text": [
      "**********\n",
      " ********\n",
      "  ******\n",
      "   ****\n",
      "    **\n",
      "     \n",
      "      \n",
      "       "
     ]
    }
   ],
   "source": [
    "\n",
    "n = 10\n",
    "i = 0\n",
    "while n>-3:\n",
    "     i = i+1\n",
    "     print(\"*\" * (n))\n",
    "     print(\" \"*i,end=\"\")\n",
    "     n = n-2"
   ]
  },
  {
   "cell_type": "code",
   "execution_count": null,
   "metadata": {},
   "outputs": [],
   "source": []
  },
  {
   "cell_type": "code",
   "execution_count": null,
   "metadata": {},
   "outputs": [],
   "source": []
  },
  {
   "cell_type": "code",
   "execution_count": null,
   "metadata": {},
   "outputs": [],
   "source": []
  },
  {
   "cell_type": "code",
   "execution_count": null,
   "metadata": {},
   "outputs": [],
   "source": []
  },
  {
   "cell_type": "code",
   "execution_count": null,
   "metadata": {},
   "outputs": [],
   "source": []
  },
  {
   "cell_type": "code",
   "execution_count": null,
   "metadata": {},
   "outputs": [],
   "source": []
  },
  {
   "cell_type": "code",
   "execution_count": null,
   "metadata": {},
   "outputs": [],
   "source": []
  }
 ],
 "metadata": {
  "kernelspec": {
   "display_name": "Python 3",
   "language": "python",
   "name": "python3"
  },
  "language_info": {
   "codemirror_mode": {
    "name": "ipython",
    "version": 3
   },
   "file_extension": ".py",
   "mimetype": "text/x-python",
   "name": "python",
   "nbconvert_exporter": "python",
   "pygments_lexer": "ipython3",
   "version": "3.11.1"
  },
  "orig_nbformat": 4,
  "vscode": {
   "interpreter": {
    "hash": "ead1b95f633dc9c51826328e1846203f51a198c6fb5f2884a80417ba131d4e82"
   }
  }
 },
 "nbformat": 4,
 "nbformat_minor": 2
}
