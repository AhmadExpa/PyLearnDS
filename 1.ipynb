{
 "cells": [
  {
   "cell_type": "code",
   "execution_count": null,
   "id": "5d24b305",
   "metadata": {},
   "outputs": [],
   "source": [
    "import os\n",
    "print(\"This Is My Demo Program Just To check Whether My compiler runs correctly or Not.\")"
   ]
  },
  {
   "cell_type": "markdown",
   "id": "99b53bb5",
   "metadata": {},
   "source": [
    "# Comments\n",
    "\n",
    "### This symbol is used for single line comment '#'\n",
    "### This symbol is used for multi line comment '''\n",
    "### if you want to use print function to print more than one line statement (string) then use triple ''' instead of double \"\""
   ]
  },
  {
   "cell_type": "markdown",
   "id": "253bd9c3",
   "metadata": {},
   "source": [
    "# PIP\n",
    "### pip is used for download library files from the python server.\n",
    "### REPL read evluate print loop is set by write python and then enter in the terminal."
   ]
  },
  {
   "cell_type": "code",
   "execution_count": null,
   "id": "1b23d9cf",
   "metadata": {},
   "outputs": [],
   "source": [
    "print(os.listdir())\n",
    "print(\"list dir is used to list current directory files. \")\n"
   ]
  },
  {
   "cell_type": "code",
   "execution_count": null,
   "id": "8d71f12b",
   "metadata": {},
   "outputs": [],
   "source": [
    "from playsound import playsound\n",
    "playsound('Python Course with Notes/1. Chapter 1/play.mp3')"
   ]
  }
 ],
 "metadata": {
  "kernelspec": {
   "display_name": "Python 3 (ipykernel)",
   "language": "python",
   "name": "python3"
  },
  "language_info": {
   "codemirror_mode": {
    "name": "ipython",
    "version": 3
   },
   "file_extension": ".py",
   "mimetype": "text/x-python",
   "name": "python",
   "nbconvert_exporter": "python",
   "pygments_lexer": "ipython3",
   "version": "3.9.13"
  }
 },
 "nbformat": 4,
 "nbformat_minor": 5
}
