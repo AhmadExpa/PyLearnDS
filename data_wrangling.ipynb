{
 "cells": [
  {
   "cell_type": "markdown",
   "metadata": {},
   "source": [
    "## Data Wrangling"
   ]
  },
  {
   "cell_type": "markdown",
   "metadata": {},
   "source": [
    "Data Pre-Processing \n",
    "\n",
    "Content\n",
    "1. Handling missing values\n",
    "2. Data formatting\n",
    "3. Data normalization\n",
    " Scaling\n",
    " Centralizing\n",
    "\n",
    "4. Data binning\n",
    " For groups of data\n",
    "5. Making dummies of categorical data\n",
    " Categorical ---> Numerical\n",
    " \n",
    "\n"
   ]
  },
  {
   "cell_type": "code",
   "execution_count": null,
   "metadata": {},
   "outputs": [],
   "source": [
    "# import libraries\n",
    "import pandas as pd\n",
    "import numpy as np\n",
    "import seaborn as sns"
   ]
  },
  {
   "cell_type": "code",
   "execution_count": null,
   "metadata": {},
   "outputs": [],
   "source": [
    "report = sns.load_dataset(\"titanic\")\n",
    "rw1 = report\n",
    "rw2 = report\n",
    "rw3 = report\n",
    "rw4 = report"
   ]
  },
  {
   "attachments": {},
   "cell_type": "markdown",
   "metadata": {},
   "source": [
    "Dealing With Missing Values\n",
    " In a data set missing values are either ? or N/A or NaN or 0 or Blank Cell\n",
    " See First if there is any mistake importing the data\n",
    " If the Column that has the most missing values doesn't effect the whole data then simply del it.\n",
    "OtherWise Replace The Missing Values:\n",
    "1. How?\n",
    "  1. Average Value of Entire \n",
    "  2. Frequency or Mode replace\n",
    "  3. Replace based on other function (data sampler knows that)\n",
    "  4. Ml Algorithm can also be used\n",
    "2. Why?\n",
    " 1. less accurate\n",
    " 2. its better no data loss\n",
    "\n"
   ]
  },
  {
   "cell_type": "code",
   "execution_count": null,
   "metadata": {},
   "outputs": [],
   "source": [
    "report.isnull().sum()"
   ]
  },
  {
   "cell_type": "code",
   "execution_count": null,
   "metadata": {},
   "outputs": [],
   "source": [
    "report.dropna(subset=['deck'], axis=0, inplace=True)"
   ]
  },
  {
   "cell_type": "code",
   "execution_count": null,
   "metadata": {},
   "outputs": [],
   "source": [
    "report.isnull().sum()"
   ]
  },
  {
   "cell_type": "code",
   "execution_count": null,
   "metadata": {},
   "outputs": [],
   "source": [
    "report = report.dropna()\n",
    "# report.isnull().sum()"
   ]
  },
  {
   "cell_type": "code",
   "execution_count": null,
   "metadata": {},
   "outputs": [],
   "source": [
    "report['age'].mean()"
   ]
  },
  {
   "attachments": {},
   "cell_type": "markdown",
   "metadata": {},
   "source": [
    "## Replacing Missing Values With The Average Of that Column"
   ]
  },
  {
   "cell_type": "code",
   "execution_count": null,
   "metadata": {},
   "outputs": [],
   "source": [
    "# Finding An Average (Mean)\n",
    "mean_age = rw1['age'].mean()\n",
    "# mean_age\n",
    "# mean_deck = rw1['deck'].mean()\n",
    "# mean_deck\n",
    "# rw1['deck']"
   ]
  },
  {
   "cell_type": "code",
   "execution_count": null,
   "metadata": {},
   "outputs": [],
   "source": [
    "# Replacing NaN With The Mean Of The Data (Updating as Well)\n",
    "rw1['age'] = rw1['age'].replace(np.NAN, mean_age)\n",
    "# rw1['deck'] = rw1['deck'].replace(np.NAN, mean) # Its a Categorical Data"
   ]
  },
  {
   "cell_type": "code",
   "execution_count": null,
   "metadata": {},
   "outputs": [],
   "source": [
    "rw1.isnull().sum()"
   ]
  },
  {
   "attachments": {},
   "cell_type": "markdown",
   "metadata": {},
   "source": [
    "## Data Formatting\n",
    " Format data to a comman standard \n",
    " Ensure Data is Consistent and Understandable\n",
    "  Easy to gather\n",
    "  easy to workwith\n"
   ]
  },
  {
   "cell_type": "code",
   "execution_count": null,
   "metadata": {},
   "outputs": [],
   "source": [
    "rw1.dtypes"
   ]
  },
  {
   "cell_type": "code",
   "execution_count": null,
   "metadata": {},
   "outputs": [],
   "source": [
    "# use this method to convert datatype from one to another format\n",
    "rw1['age'] = rw1['age'].astype('float64')"
   ]
  },
  {
   "cell_type": "code",
   "execution_count": null,
   "metadata": {},
   "outputs": [],
   "source": [
    "# converts years into days \n",
    "rw1['age'] = rw1['age']*365\n",
    "# rw1.head(10)"
   ]
  },
  {
   "cell_type": "code",
   "execution_count": null,
   "metadata": {},
   "outputs": [],
   "source": [
    "# Always Rename AfterWards \n",
    "rw1.rename(columns={'age':'age in days'}, inplace=True)\n",
    "# rw1.head()"
   ]
  },
  {
   "cell_type": "markdown",
   "metadata": {},
   "source": [
    "## Data Normaliztion"
   ]
  },
  {
   "attachments": {},
   "cell_type": "markdown",
   "metadata": {},
   "source": [
    "1. For Computation Reasons\n",
    "2. For More Precise Result "
   ]
  },
  {
   "cell_type": "code",
   "execution_count": null,
   "metadata": {},
   "outputs": [],
   "source": [
    "r3 = rw1[['age in days','fare']].head()"
   ]
  },
  {
   "attachments": {},
   "cell_type": "markdown",
   "metadata": {},
   "source": [
    "1. The above Data is wide in range and hard to compare so we need to normalize it\n",
    "2. Normaliztion change the value from 0-to-1 (Now both variable have similar influence on our model)"
   ]
  },
  {
   "attachments": {},
   "cell_type": "markdown",
   "metadata": {},
   "source": [
    "## Method of Normalization"
   ]
  },
  {
   "attachments": {},
   "cell_type": "markdown",
   "metadata": {},
   "source": [
    "1. Simple Feature Scaling\n",
    " x(new) = x(old)\\x(max)\n",
    "2. Min \\ Max Method\n",
    "3. Z-Score (Standard Score) -3 to +3\n",
    "4. Log Transformation\n"
   ]
  },
  {
   "cell_type": "code",
   "execution_count": null,
   "metadata": {},
   "outputs": [],
   "source": [
    "# Simple Feature Scaling\n",
    "# 1.  x(new) = x(old)\\x(max)\n",
    "r3['fare'] = r3['fare']/r3['fare'].max()\n",
    "r3['age in days'] = r3['age in days']/r3['age in days'].max()\n",
    "r3"
   ]
  },
  {
   "cell_type": "code",
   "execution_count": null,
   "metadata": {},
   "outputs": [],
   "source": [
    "# 2. Min \\ Max Method\n",
    "r3 = (r3['fare']-r3['fare'].min()) / (r3['fare'].max()-r3['fare'])\n"
   ]
  },
  {
   "cell_type": "code",
   "execution_count": null,
   "metadata": {},
   "outputs": [],
   "source": [
    "# Z- Score (Standard Score)\n",
    "r3['fare'] = (r3['fare']-r3['fare'].mean()) /r3['fare'].std()\n",
    "r3.head()"
   ]
  },
  {
   "cell_type": "code",
   "execution_count": null,
   "metadata": {},
   "outputs": [],
   "source": [
    "# Log transformation\n",
    "rw2['fare'] = np.log(rw2['fare'])\n",
    "rw2.head()"
   ]
  },
  {
   "cell_type": "markdown",
   "metadata": {},
   "source": [
    "## Binning\n",
    "1.  Grouping Of values into smaller num of values(bins)\n",
    "2. Convert Numeric Into CAtegories (Young, Child, Old) or 1-18, 18-30, rtc\n",
    "3. To Have Better Understanding Of groups\n",
    " low vs mid vs high price"
   ]
  },
  {
   "cell_type": "code",
   "execution_count": null,
   "metadata": {},
   "outputs": [],
   "source": [
    "bin = np.linspace(min(report['age in days']), max(report['age in days']), 15000)\n",
    "age_group = ['child', 'young', 'old']\n",
    "report['age in days'] = pd.cut(report['age in days'], labels=age_group, include_lowest=True)\n",
    "report['age in days']\n",
    "# How This Will Change The Names In Dataset besded on grouping?"
   ]
  },
  {
   "cell_type": "markdown",
   "metadata": {},
   "source": [
    "### Converting Categorical Into Dummies\n",
    "1. Easy To Use For Computation\n",
    "2. Like Male\\Female (0,1)"
   ]
  },
  {
   "cell_type": "code",
   "execution_count": null,
   "metadata": {},
   "outputs": [],
   "source": [
    "# rw4['sex'] = (pd.get_dummies(rw4['sex']))???"
   ]
  },
  {
   "cell_type": "code",
   "execution_count": null,
   "metadata": {},
   "outputs": [],
   "source": [
    "rw4.head()"
   ]
  }
 ],
 "metadata": {
  "kernelspec": {
   "display_name": "Python 3",
   "language": "python",
   "name": "python3"
  },
  "language_info": {
   "codemirror_mode": {
    "name": "ipython",
    "version": 3
   },
   "file_extension": ".py",
   "mimetype": "text/x-python",
   "name": "python",
   "nbconvert_exporter": "python",
   "pygments_lexer": "ipython3",
   "version": "3.11.1"
  },
  "orig_nbformat": 4,
  "vscode": {
   "interpreter": {
    "hash": "e7370f93d1d0cde622a1f8e1c04877d8463912d04d973331ad4851f04de6915a"
   }
  }
 },
 "nbformat": 4,
 "nbformat_minor": 2
}
