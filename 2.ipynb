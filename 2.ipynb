{
 "cells": [
  {
   "cell_type": "markdown",
   "id": "7739bed1",
   "metadata": {},
   "source": [
    "# Basically variables are the memory stored location in a program \n",
    "## there are mainly 4 data types for python int, float, string, boolean, and 4 is none,\n",
    "## lets start the variable section"
   ]
  },
  {
   "cell_type": "markdown",
   "id": "fce5f603",
   "metadata": {},
   "source": [
    "# # ---------- Variables ----------\n"
   ]
  },
  {
   "cell_type": "code",
   "execution_count": null,
   "id": "171e3fac",
   "metadata": {},
   "outputs": [],
   "source": [
    "a = 4\n",
    "b = 5.5\n",
    "c = \"Ahmad\"\n",
    "# c = 'Ahmad'\n",
    "# c = ''' Ahmad '''\n",
    "d = True\n",
    "e = False\n",
    "f = None "
   ]
  },
  {
   "cell_type": "markdown",
   "id": "33611fc7",
   "metadata": {},
   "source": [
    "# # ---------- Variable Print ----------\n"
   ]
  },
  {
   "cell_type": "code",
   "execution_count": null,
   "id": "0dd3f060",
   "metadata": {},
   "outputs": [],
   "source": [
    "print(a)\n",
    "print(b)\n",
    "print(c)\n",
    "print(d)\n",
    "print(e)\n",
    "print(f)"
   ]
  },
  {
   "cell_type": "markdown",
   "id": "c87ac487",
   "metadata": {},
   "source": [
    "# # ---------- Variables Identification ----------"
   ]
  },
  {
   "cell_type": "code",
   "execution_count": null,
   "id": "7c9f0492",
   "metadata": {},
   "outputs": [],
   "source": [
    "print(type(a))\n",
    "print(type(b))\n",
    "print(type(c))\n",
    "print(type(d))\n",
    "print(type(e))\n",
    "print(type(f))"
   ]
  },
  {
   "cell_type": "markdown",
   "id": "2c0efc77",
   "metadata": {},
   "source": [
    "# # ---------- Assignment Operator ----------\n"
   ]
  },
  {
   "cell_type": "code",
   "execution_count": null,
   "id": "f69b3059",
   "metadata": {},
   "outputs": [],
   "source": [
    "x = 5\n",
    "x +=10\n",
    "x -=10\n",
    "x *=10\n",
    "x /=10\n",
    "x %=10\n",
    "print(\"Value Of X =\",x)"
   ]
  },
  {
   "cell_type": "markdown",
   "id": "c3d5f749",
   "metadata": {},
   "source": [
    "# # ---------- Comparison Operators ----------"
   ]
  },
  {
   "cell_type": "code",
   "execution_count": null,
   "id": "2a3b89f4",
   "metadata": {},
   "outputs": [],
   "source": [
    "# y = (14<=7)\n",
    "# y = (14>=7) # At One Time One Statement Can Be Used \n",
    "# y = (14<7)\n",
    "# y = (14>7)\n",
    "# y = (14==7)\n",
    "y = (14!=7)\n",
    "print(y)"
   ]
  },
  {
   "cell_type": "markdown",
   "id": "80b67aa4",
   "metadata": {},
   "source": [
    "# # ---------- Logical Operators ----------\n"
   ]
  },
  {
   "cell_type": "code",
   "execution_count": null,
   "id": "2be0d33c",
   "metadata": {},
   "outputs": [],
   "source": [
    "d = True\n",
    "e = False\n",
    "print(\"The value of d and e is\", (d and e))\n",
    "print(\"The value of d or e is\", (d or e))\n",
    "print(\"The value of not e is\", (not e))"
   ]
  },
  {
   "cell_type": "markdown",
   "id": "1b1ec20d",
   "metadata": {},
   "source": [
    "# #  ---------- Input Method  ----------\n"
   ]
  },
  {
   "cell_type": "code",
   "execution_count": null,
   "id": "7ae32727",
   "metadata": {},
   "outputs": [],
   "source": [
    "z = input(\"Enter a number: \")\n",
    "z = int(z) # Convert a to an Integer(if possible)\n",
    "print(type(z))\n",
    "# ab = input(\"Enter a number: \")\n",
    "# print(type(ab))"
   ]
  },
  {
   "cell_type": "markdown",
   "id": "5d5dae3e",
   "metadata": {},
   "source": [
    "#   ---------- Note  ----------\n",
    "### The Output Of input is always a string even if it is number.\n",
    "## ----------------------------------------------------\n",
    "## END"
   ]
  }
 ],
 "metadata": {
  "kernelspec": {
   "display_name": "Python 3",
   "language": "python",
   "name": "python3"
  },
  "language_info": {
   "codemirror_mode": {
    "name": "ipython",
    "version": 3
   },
   "file_extension": ".py",
   "mimetype": "text/x-python",
   "name": "python",
   "nbconvert_exporter": "python",
   "pygments_lexer": "ipython3",
   "version": "3.11.1 (main, Dec  7 2022, 08:49:13) [GCC 12.2.0]"
  },
  "vscode": {
   "interpreter": {
    "hash": "ead1b95f633dc9c51826328e1846203f51a198c6fb5f2884a80417ba131d4e82"
   }
  }
 },
 "nbformat": 4,
 "nbformat_minor": 5
}
