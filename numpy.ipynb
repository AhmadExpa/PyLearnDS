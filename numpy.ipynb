{
 "cells": [
  {
   "cell_type": "markdown",
   "metadata": {},
   "source": [
    "NumPy \"Numerical Python\"\n",
    "Liner Algebra Library - Typically\n",
    "'Intel MKL' or 'OpenBLAS'\n",
    "\n",
    "1. An Array is a central data struture of the NumPy library.\n",
    "2. An Array is a grid of values and it contain information about the raw data how to locate an element how to interpret an element.\n",
    "3. It has a grid of element that can be indexed in various ways. \n",
    "4. The elements are all the same type reffered as a the array dtype\n",
    "5. An array can be indexed by a tuple of non negative integers , by booleans, by another array, or by integers.\n"
   ]
  },
  {
   "cell_type": "markdown",
   "metadata": {},
   "source": [
    "### NumPy Practice"
   ]
  },
  {
   "cell_type": "markdown",
   "metadata": {},
   "source": [
    " First of all install the library pip install numpy \n",
    " by default it is present in the jyputer but if you're using vs code \n",
    " then you may haven't install it."
   ]
  },
  {
   "cell_type": "markdown",
   "metadata": {},
   "source": [
    "### Creating An 1-D Array."
   ]
  },
  {
   "cell_type": "code",
   "execution_count": null,
   "metadata": {},
   "outputs": [],
   "source": [
    "import numpy as np\n",
    "# importing file"
   ]
  },
  {
   "cell_type": "code",
   "execution_count": null,
   "metadata": {},
   "outputs": [],
   "source": [
    "arr = np.array([1,2,3,4,5])\n",
    "arr"
   ]
  },
  {
   "cell_type": "markdown",
   "metadata": {},
   "source": [
    "### Creating 2-D Array"
   ]
  },
  {
   "cell_type": "code",
   "execution_count": null,
   "metadata": {},
   "outputs": [],
   "source": [
    "arr = np.array([[1,2,3],[4,5,6]])\n",
    "arr"
   ]
  },
  {
   "cell_type": "markdown",
   "metadata": {},
   "source": [
    "### Array Shape"
   ]
  },
  {
   "cell_type": "code",
   "execution_count": null,
   "metadata": {},
   "outputs": [],
   "source": [
    "print(arr.shape)"
   ]
  },
  {
   "cell_type": "markdown",
   "metadata": {},
   "source": [
    "### Array DataType"
   ]
  },
  {
   "cell_type": "code",
   "execution_count": null,
   "metadata": {},
   "outputs": [],
   "source": [
    "print(\"Array Data Type = \",arr.dtype)"
   ]
  },
  {
   "cell_type": "markdown",
   "metadata": {},
   "source": [
    "### Array Reshape"
   ]
  },
  {
   "cell_type": "code",
   "execution_count": null,
   "metadata": {},
   "outputs": [],
   "source": [
    "arr = arr.reshape(3,2)\n",
    "arr"
   ]
  },
  {
   "cell_type": "markdown",
   "metadata": {},
   "source": [
    "### Array Slicing"
   ]
  },
  {
   "cell_type": "code",
   "execution_count": null,
   "metadata": {},
   "outputs": [],
   "source": [
    "print(\"Array Slicing : \",arr[:,-1])"
   ]
  },
  {
   "cell_type": "markdown",
   "metadata": {},
   "source": [
    "### Array Transpose "
   ]
  },
  {
   "cell_type": "code",
   "execution_count": null,
   "metadata": {},
   "outputs": [],
   "source": [
    "arr = arr.T # Transpose of Arr\n",
    "arr"
   ]
  },
  {
   "cell_type": "markdown",
   "metadata": {},
   "source": [
    "### Array Broadcasting "
   ]
  },
  {
   "cell_type": "code",
   "execution_count": null,
   "metadata": {},
   "outputs": [],
   "source": [
    "arr1 = np.array([1,2,3])\n",
    "arr2 = np.array([4,5,6])\n",
    "arr3 = arr1 + arr2\n",
    "print(\"Array Broadcasting : \",arr3)\n",
    "# arr3 = np.concatenate((arr1,arr2), axis = 0) # Work Same As Above\n",
    "# arr3\n",
    "# Add a Scalar to an array\n",
    "add_scalar = arr1 + 10\n",
    "print(f\"Adding A scalar : {arr1}\")\n",
    "# add a row vector to an matrix\n",
    "add_row_vec = arr2 + np.array([[4,4,4]])\n",
    "print(f\"adding a row vector : {add_row_vec}\")\n",
    "# multiply a matrix by a column vector\n",
    "mul_col_vec = arr2.dot([[1],[2],[3]])\n",
    "print(f\"multiply a column vector : {mul_col_vec}\")"
   ]
  },
  {
   "cell_type": "markdown",
   "metadata": {},
   "source": [
    "### Array Mathematical Function"
   ]
  },
  {
   "cell_type": "code",
   "execution_count": null,
   "metadata": {},
   "outputs": [],
   "source": [
    "arr_math = [1,2,3,4,5,6,7,8,9,10]\n",
    "arr_x = np.array([1,2,3])\n",
    "arr_y = np.array([4,5,6])\n",
    "# arr_z = np.array([[1,4,9],[25,36,49]])\n",
    "print(\"Array Sin : \",np.sin(arr_math))\n",
    "print(\"Array Sum : \",np.sum(arr_math))\n",
    "print(\"Array Mean : \",np.mean(arr_math))\n",
    "lin = np.dot(arr_x, arr_y)\n",
    "# lin_01 = np.linalg.inv(arr_z)\n",
    "print(\"Linear Algebra Function :\", lin)\n"
   ]
  },
  {
   "cell_type": "code",
   "execution_count": null,
   "metadata": {},
   "outputs": [],
   "source": [
    "# specific Interval\n",
    "arr_01 = np.arange(1,10,2)\n",
    "arr_01\n",
    "# Line Space // Distance from the above and below digit will be same \n",
    "arr_02 = np.linspace(0,10,num=5) # num show how many number do you get from 1-10\n",
    "arr_02\n",
    "\n"
   ]
  },
  {
   "cell_type": "code",
   "execution_count": null,
   "metadata": {},
   "outputs": [],
   "source": [
    "a = np.array([1,2,3])\n",
    "b = np.array([[1,2,3],[4,5,6]])\n",
    "c = np.array(\n",
    "    [\n",
    "    [[1,2,3],\n",
    "    [4,5,6]],\n",
    "     [[1,2,3],\n",
    "    [4,5,6]],\n",
    "     [[1,2,3],\n",
    "    [4,5,6]]\n",
    "    ])\n",
    "\n",
    "print(\"1-D Array : \\n\",a)\n",
    "print(f\"No. of Dimension : {a.ndim} \\n\")\n",
    "print(\"2-D Array : \\n\",b)\n",
    "print(f\"No. of Dimension : {b.ndim} \\n\")\n",
    "print(\"3-D Array : \\n\",c)\n",
    "print(f\"No. of Dimension : {c.ndim} \\n\")\n"
   ]
  },
  {
   "cell_type": "code",
   "execution_count": null,
   "metadata": {},
   "outputs": [],
   "source": []
  }
 ],
 "metadata": {
  "kernelspec": {
   "display_name": "Python 3",
   "language": "python",
   "name": "python3"
  },
  "language_info": {
   "codemirror_mode": {
    "name": "ipython",
    "version": 3
   },
   "file_extension": ".py",
   "mimetype": "text/x-python",
   "name": "python",
   "nbconvert_exporter": "python",
   "pygments_lexer": "ipython3",
   "version": "3.11.1"
  },
  "orig_nbformat": 4,
  "vscode": {
   "interpreter": {
    "hash": "e7370f93d1d0cde622a1f8e1c04877d8463912d04d973331ad4851f04de6915a"
   }
  }
 },
 "nbformat": 4,
 "nbformat_minor": 2
}
