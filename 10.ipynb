{
 "cells": [
  {
   "cell_type": "markdown",
   "metadata": {},
   "source": [
    "### Solving a problem by creating objects is called object oriented language, \n",
    "### this concept works on reusable of code.\n",
    "### A class is a blueprint of creating objects. // Class Name Should Be written in Pascal Case.\n",
    "### it just like a template for the user. memory is only allocated after object instantiation\n",
    "### objects (oops) basically invoke the method available to it without revealing the details \n",
    "### this is called abstraction or encapsulation \n",
    "### types are \n",
    "### 1.Class\n",
    "### 2.Attribute\n",
    "### 3.Method"
   ]
  },
  {
   "cell_type": "code",
   "execution_count": null,
   "metadata": {},
   "outputs": [],
   "source": [
    "class Form:\n",
    "    candidates = \"ISSB\" ### Class Attribute\n",
    "\n",
    "    def __init__(self, roll_no, name, father_name, cnic, father_cnic): ### Constructor\n",
    "        self.roll_no = roll_no\n",
    "        self.name = name\n",
    "        self.father_name = father_name\n",
    "        self.cnic = cnic\n",
    "        self.father_cnic = father_cnic\n",
    "\n",
    "        with open(\"Candidates_file.txt\",\"w\") as f:\n",
    "            content = f.write(f\"{self.roll_no}. {self.name} {self.cnic} {self.father_name}  {self.father_cnic}   \\n\")\n",
    "        print(f\"Data of The Following [{self.name}]Candidate is Created \\n\")\n",
    "\n",
    "    def candidates_details(self):\n",
    "        with open(\"Candidates_file.txt\",\"r\") as f:\n",
    "            content = f.readline()\n",
    "            if self.name.lower() in content.lower():\n",
    "                print(content)\n",
    "            else:\n",
    "                print(\"No Record Found ! \\n\")\n",
    "\n",
    "    @staticmethod\n",
    "    def recommendation_letter():\n",
    "        print(\"It is Inform To the Candidate.\\n Congratulation On Recommendation From ISSB \")\n",
    "\n",
    "\n",
    "### Prompt the user for the candidate's details\n",
    "option = \"\"\n",
    "while option != \"e\":\n",
    "  roll_no = str(input(\"Enter The Candidate Roll No. : \"))\n",
    "  name = str(input(\"Enter The Candidate Name : \"))\n",
    "  father_name = str(input(\"Enter The Candidate Father Name : \"))\n",
    "  cnic = str(input(\"Enter The Candidate CNIC : \"))\n",
    "  father_cnic = str(input(\"Enter The Candidate Father's CNIC : \"))\n",
    "  option = str(input(\"Do You Want To Exit Write 'e' otherwise 'n' for not :  \"))"
   ]
  },
  {
   "cell_type": "code",
   "execution_count": null,
   "metadata": {},
   "outputs": [],
   "source": [
    "### Create an object of the Form class with the user-provided details\n",
    "candidate = Form(roll_no, name, father_name, cnic, father_cnic) ### initiateded \n",
    "### candidate.name = \"Ahmad\" ### search for the candidate by name\n",
    "### candidate.candidates_details()"
   ]
  }
 ],
 "metadata": {
  "kernelspec": {
   "display_name": "Python 3",
   "language": "python",
   "name": "python3"
  },
  "language_info": {
   "name": "python",
   "version": "3.11.1 (main, Dec  7 2022, 08:49:13) [GCC 12.2.0]"
  },
  "orig_nbformat": 4,
  "vscode": {
   "interpreter": {
    "hash": "ead1b95f633dc9c51826328e1846203f51a198c6fb5f2884a80417ba131d4e82"
   }
  }
 },
 "nbformat": 4,
 "nbformat_minor": 2
}
